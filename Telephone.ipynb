{
 "cells": [
  {
   "cell_type": "code",
   "execution_count": 1,
   "id": "f1b96c44",
   "metadata": {},
   "outputs": [
    {
     "name": "stdout",
     "output_type": "stream",
     "text": [
      "Requirement already satisfied: pymongo in c:\\users\\manideep\\anaconda3\\lib\\site-packages (4.3.3)\n",
      "Requirement already satisfied: dnspython<3.0.0,>=1.16.0 in c:\\users\\manideep\\anaconda3\\lib\\site-packages (from pymongo) (2.2.1)\n"
     ]
    }
   ],
   "source": [
    "!pip install pymongo"
   ]
  },
  {
   "cell_type": "code",
   "execution_count": 2,
   "id": "07c4dd67",
   "metadata": {},
   "outputs": [],
   "source": [
    "import pymongo\n",
    "from pymongo import MongoClient"
   ]
  },
  {
   "cell_type": "code",
   "execution_count": 3,
   "id": "9ca62b24",
   "metadata": {},
   "outputs": [],
   "source": [
    "client = MongoClient(\"mongodb://localhost:27017\")"
   ]
  },
  {
   "cell_type": "code",
   "execution_count": 11,
   "id": "8b8d6199",
   "metadata": {},
   "outputs": [],
   "source": [
    "db1 = client[\"crud\"]"
   ]
  },
  {
   "cell_type": "code",
   "execution_count": 12,
   "id": "24b381df",
   "metadata": {},
   "outputs": [],
   "source": [
    "Crud = new_db[\"Telephone_Directory\"]"
   ]
  },
  {
   "cell_type": "code",
   "execution_count": 13,
   "id": "576b8c01",
   "metadata": {},
   "outputs": [],
   "source": [
    "post = [{\"Name\" : \"Srinidhi\", \"age\": 22, \"Gender\" : \"female\", \"PH.No\":8096838341},\n",
    "        {\"Name\" : \"Manideep\", \"age\": 24, \"Gender\" : \"male\", \"PH.No\": 8738493839},\n",
    "        {\"Name\" : \"Manjula\", \"age\" : 43, \"Gender\" : \"female\", \"PH.No\": 4873972756}]\n"
   ]
  },
  {
   "cell_type": "code",
   "execution_count": 14,
   "id": "9106330b",
   "metadata": {},
   "outputs": [
    {
     "data": {
      "text/plain": [
       "<pymongo.results.InsertManyResult at 0x21247d80550>"
      ]
     },
     "execution_count": 14,
     "metadata": {},
     "output_type": "execute_result"
    }
   ],
   "source": [
    "Crud.insert_many(post)"
   ]
  },
  {
   "cell_type": "code",
   "execution_count": 15,
   "id": "24396116",
   "metadata": {},
   "outputs": [
    {
     "name": "stdout",
     "output_type": "stream",
     "text": [
      "{'Gender': 'female',\n",
      " 'Name': 'Srinidhi',\n",
      " 'PH.No': 8096838341,\n",
      " '_id': ObjectId('63a8fccb7a34e9425998d13a'),\n",
      " 'age': 22}\n",
      "{'Gender': 'male',\n",
      " 'Name': 'Manideep',\n",
      " 'PH.No': 8738493839,\n",
      " '_id': ObjectId('63a8fccb7a34e9425998d13b'),\n",
      " 'age': 24}\n",
      "{'Gender': 'female',\n",
      " 'Name': 'Manjula',\n",
      " 'PH.No': 4873972756,\n",
      " '_id': ObjectId('63a8fccb7a34e9425998d13c'),\n",
      " 'age': 43}\n"
     ]
    }
   ],
   "source": [
    "import pprint\n",
    "for i in Crud.find():\n",
    "    pprint.pprint(i)"
   ]
  },
  {
   "cell_type": "code",
   "execution_count": 22,
   "id": "d6ae0b1f",
   "metadata": {},
   "outputs": [
    {
     "data": {
      "text/plain": [
       "<pymongo.results.UpdateResult at 0x212499811f0>"
      ]
     },
     "execution_count": 22,
     "metadata": {},
     "output_type": "execute_result"
    }
   ],
   "source": [
    "\n",
    "myquery = { \"Name\": \"Manjula\" }\n",
    "newvalues = { \"$set\": { \"Name\": \"Kavitha\" } }\n",
    "Crud.update_one(myquery, newvalues)\n",
    "\n"
   ]
  },
  {
   "cell_type": "code",
   "execution_count": 18,
   "id": "86b62efd",
   "metadata": {},
   "outputs": [
    {
     "name": "stdout",
     "output_type": "stream",
     "text": [
      "{'Gender': 'female',\n",
      " 'Name': 'Srinidhi',\n",
      " 'PH.No': 8096838341,\n",
      " '_id': ObjectId('63a8fccb7a34e9425998d13a'),\n",
      " 'age': 22}\n",
      "{'Gender': 'male',\n",
      " 'Name': 'Manideep',\n",
      " 'PH.No': 8738493839,\n",
      " '_id': ObjectId('63a8fccb7a34e9425998d13b'),\n",
      " 'age': 24}\n",
      "{'Gender': 'female',\n",
      " 'Name': 'Kavitha',\n",
      " 'PH.No': 4873972756,\n",
      " '_id': ObjectId('63a8fccb7a34e9425998d13c'),\n",
      " 'age': 43}\n"
     ]
    }
   ],
   "source": [
    "for i in Crud.find():\n",
    "    pprint.pprint(i)"
   ]
  },
  {
   "cell_type": "code",
   "execution_count": 23,
   "id": "b80a4452",
   "metadata": {},
   "outputs": [
    {
     "name": "stdout",
     "output_type": "stream",
     "text": [
      "1  documents deleted.\n"
     ]
    }
   ],
   "source": [
    "myquery = { \"Name\": {\"$regex\": \"^S\"} }\n",
    "\n",
    "x = Crud.delete_many(myquery)\n",
    "\n",
    "print(x.deleted_count, \" documents deleted.\")\n"
   ]
  },
  {
   "cell_type": "code",
   "execution_count": 24,
   "id": "5a4b39cb",
   "metadata": {},
   "outputs": [
    {
     "name": "stdout",
     "output_type": "stream",
     "text": [
      "{'Gender': 'male',\n",
      " 'Name': 'Manideep',\n",
      " 'PH.No': 8738493839,\n",
      " '_id': ObjectId('63a8fccb7a34e9425998d13b'),\n",
      " 'age': 24}\n",
      "{'Gender': 'female',\n",
      " 'Name': 'Kavitha',\n",
      " 'PH.No': 4873972756,\n",
      " '_id': ObjectId('63a8fccb7a34e9425998d13c'),\n",
      " 'age': 43}\n"
     ]
    }
   ],
   "source": [
    "import pprint\n",
    "for i in Crud.find():\n",
    "    pprint.pprint(i)"
   ]
  },
  {
   "cell_type": "code",
   "execution_count": null,
   "id": "d46a07de",
   "metadata": {},
   "outputs": [],
   "source": []
  },
  {
   "cell_type": "code",
   "execution_count": null,
   "id": "fc741447",
   "metadata": {},
   "outputs": [],
   "source": []
  }
 ],
 "metadata": {
  "kernelspec": {
   "display_name": "Python 3 (ipykernel)",
   "language": "python",
   "name": "python3"
  },
  "language_info": {
   "codemirror_mode": {
    "name": "ipython",
    "version": 3
   },
   "file_extension": ".py",
   "mimetype": "text/x-python",
   "name": "python",
   "nbconvert_exporter": "python",
   "pygments_lexer": "ipython3",
   "version": "3.9.13"
  }
 },
 "nbformat": 4,
 "nbformat_minor": 5
}
